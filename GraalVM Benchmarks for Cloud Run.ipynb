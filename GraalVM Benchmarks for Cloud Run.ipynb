{
 "cells": [
  {
   "cell_type": "markdown",
   "id": "c3e096db",
   "metadata": {},
   "source": [
    "# GraalVM vs. Standard Java for Cloud Functions\n",
    "\n",
    "After deploying the GraalVM and Standard Java functions to Cloud Run, get their URLs.\n",
    "\n",
    "They will look like this:\n",
    "\n",
    "* GraalVM function: https://my-func-graalvm-2yebdnw3bq-uc.a.run.app\n",
    "* Standard Java function: https://my-func-java11-2yebdnw3bq-uc.a.run.app"
   ]
  },
  {
   "cell_type": "code",
   "execution_count": 4,
   "id": "d9a61cd9",
   "metadata": {},
   "outputs": [],
   "source": [
    "GRAAL_FN = 'my-func-graalvm'\n",
    "STD_JAVA_FN = 'my-func-java11'\n",
    "\n",
    "URLS = {\n",
    "    GRAAL_FN: 'https://my-func-graalvm-2yebdnw3bq-uc.a.run.app',\n",
    "    STD_JAVA_FN: 'https://my-func-java11-2yebdnw3bq-uc.a.run.app'\n",
    "}"
   ]
  },
  {
   "cell_type": "code",
   "execution_count": 12,
   "id": "b84c70a6",
   "metadata": {
    "scrolled": true
   },
   "outputs": [],
   "source": [
    "import random\n",
    "import requests\n",
    "import shlex\n",
    "import subprocess\n",
    "import time\n",
    "\n",
    "def run_command(cmd_string):\n",
    "    output = subprocess.check_output(shlex.split(cmd_string)).strip()\n",
    "    return output.decode('utf-8')\n",
    "\n",
    "def redeploy(container_name):\n",
    "    env_code = random.randint(1, 100000)\n",
    "    command = 'gcloud run services update %s ' \\\n",
    "        '--update-env-vars FOO=%d --platform managed --region us-central1 --max-instances 1' % (container_name, env_code)\n",
    "    run_command(command)\n",
    "    return env_code\n",
    "\n",
    "def send_request(function_url, coldstart=False):\n",
    "    if coldstart and '?coldstart' not in function_url:\n",
    "        function_url += '?coldstart'\n",
    "    \n",
    "    # Notes on time.time() precision for linux: https://stackoverflow.com/a/1938096/906497\n",
    "    # On linux & mac, time precision < 1 microsecond.\n",
    "    start = time.time()\n",
    "    response = requests.get(function_url, headers = {'Authorization': 'Bearer %s' % TOKEN})\n",
    "    end = time.time()\n",
    "    \n",
    "    print(function_url + \" | code: \" + str(response.status_code))\n",
    "    if response.status_code == 429:\n",
    "        time.sleep(30)\n",
    "    \n",
    "    if response.status_code == 200:\n",
    "        return end - start\n",
    "    else:\n",
    "        return send_request(function_url, coldstart)\n",
    "\n",
    "def update_token():\n",
    "    TOKEN = run_command('gcloud auth print-identity-token')"
   ]
  },
  {
   "cell_type": "markdown",
   "id": "b02e27a2",
   "metadata": {},
   "source": [
    "## Cold Start Analysis\n",
    "\n",
    "In this experiment, we measure the cold start time of the containers.\n",
    "\n",
    "To trigger a cold start on each request, we pass the url parameter `?coldstart` in the URL.\n",
    "The Java function checks for the prescence of `?coldstart` and will exit the Java process if provided. It is stopped via `System.exit()` which triggers a new instance to be created on the subsequent request:\n",
    "\n",
    "```\n",
    "if (httpRequest.getFirstQueryParameter(\"coldstart\").isPresent()) {\n",
    "      ScheduledExecutorService executorService = Executors.newScheduledThreadPool(1);\n",
    "      try {\n",
    "        executorService.schedule(() -> System.exit(0), 1, TimeUnit.SECONDS);\n",
    "      } catch (Exception e) {\n",
    "        System.err.println(e);\n",
    "        System.exit(1);\n",
    "      }\n",
    "}\n",
    "```\n",
    "\n",
    "Also note, in the Cloud Run settings, `max_instances == 1` to ensure that only one instance is being used for the cold starts experiment."
   ]
  },
  {
   "cell_type": "code",
   "execution_count": 19,
   "id": "ec317d96",
   "metadata": {
    "scrolled": true
   },
   "outputs": [],
   "source": [
    "import csv\n",
    "import os.path\n",
    "import time\n",
    "\n",
    "def write_data(request_tuple, file_name):\n",
    "    with open(file_name, 'a') as file:\n",
    "        file.write(\",\".join(map(lambda num: str(num), request_tuple)) + \"\\n\")\n",
    "\n",
    "def parse_numbers(filename):\n",
    "    result = []\n",
    "    with open(filename, 'r') as file:\n",
    "        data = csv.reader(file, delimiter=',')\n",
    "        for row in data:\n",
    "            result.append((int(row[0]), float(row[1])))\n",
    "        \n",
    "    return result\n",
    "\n",
    "# Sequential Cold Start Requests\n",
    "def sequential_cold_start_request(fn_name, file_name, times=1000):\n",
    "    print(\"Sequential cold start tests: \" + fn_name)\n",
    "    for i in range(times):\n",
    "        update_token()\n",
    "        result = send_request(URLS[fn_name], True)\n",
    "        print(\"Request %s: time = %.3f\" % (fn_name, result))\n",
    "        datum = (int(round(time.time() * 1000)), result)\n",
    "        write_data(datum, file_name)\n",
    "        time.sleep(3)\n",
    "\n",
    "for i in range(2000):\n",
    "    sequential_cold_start_request(STD_JAVA_FN, 'std_java_coldstart_bulk.txt', 1)\n",
    "    sequential_cold_start_request(GRAAL_FN, 'graalvm_java_coldstart_bulk.txt', 1)\n",
    "\n",
    "std_java_results = list(zip(*parse_numbers('std_java_coldstart_bulk.txt')))[1]\n",
    "graalvm_results = list(zip(*parse_numbers('graalvm_java_coldstart_bulk.txt')))[1]"
   ]
  },
  {
   "cell_type": "code",
   "execution_count": 20,
   "id": "053f80c7",
   "metadata": {
    "scrolled": false
   },
   "outputs": [
    {
     "data": {
      "image/png": "[encoded data removed]",
      "text/plain": [
       "<Figure size 432x288 with 1 Axes>"
      ]
     },
     "metadata": {
      "needs_background": "light"
     },
     "output_type": "display_data"
    },
    {
     "name": "stdout",
     "output_type": "stream",
     "text": [
      "Standard Java Cold Start Latencies Percentiles\n",
      "Mean = 4.367\n",
      "Median (50p) = 4.164\n",
      "95p = 5.092\n",
      "99p = 5.174\n",
      "\n",
      "GraalVM Cold Start Latencies Percentiles\n",
      "Mean = 0.440\n",
      "Median (50p) = 0.533\n",
      "95p = 0.635\n",
      "99p = 0.644\n",
      "\n"
     ]
    }
   ],
   "source": [
    "import matplotlib.pyplot as plt\n",
    "import numpy as np\n",
    "\n",
    "def printStats(data, title):\n",
    "    print(title)\n",
    "    print('Mean = %.3f' % np.mean(data))\n",
    "    print('Median (50p) = %.3f' % np.percentile(data, 50))\n",
    "    print('95p = %.3f' % np.percentile(data, 95))\n",
    "    print('99p = %.3f' % np.percentile(data, 99))\n",
    "    print()\n",
    "\n",
    "def plotHistogram(data, title, labels, range=None):\n",
    "    plt.hist(data, bins=50, histtype='barstacked', label=labels, alpha=0.7, range=range)  # density=False would make counts\n",
    "    plt.ylabel('Count')\n",
    "    plt.xlabel('Latency (seconds)');\n",
    "    plt.title(title)\n",
    "    plt.legend()\n",
    "    \n",
    "plotHistogram([std_java_results], 'Cold Start Latencies', ['Standard Java 11'])\n",
    "plotHistogram([graalvm_results], 'Cold Start Latencies (requests=100 each)', ['GraalVM'])\n",
    "plt.show()\n",
    "\n",
    "printStats(std_java_results, 'Standard Java Cold Start Latencies Percentiles')\n",
    "printStats(graalvm_results, 'GraalVM Cold Start Latencies Percentiles')\n"
   ]
  },
  {
   "cell_type": "markdown",
   "id": "82974be3",
   "metadata": {},
   "source": [
    "## Sequential Warm Requests Experiment\n",
    "\n",
    "Send requests sequentially to warmed Cloud Run instance."
   ]
  },
  {
   "cell_type": "code",
   "execution_count": 5,
   "id": "d88657ec",
   "metadata": {},
   "outputs": [
    {
     "data": {
      "image/png": "[encoded data removed]",
      "text/plain": [
       "<Figure size 432x288 with 1 Axes>"
      ]
     },
     "metadata": {
      "needs_background": "light"
     },
     "output_type": "display_data"
    },
    {
     "data": {
      "image/png": "[encoded data removed]",
      "text/plain": [
       "<Figure size 432x288 with 1 Axes>"
      ]
     },
     "metadata": {
      "needs_background": "light"
     },
     "output_type": "display_data"
    },
    {
     "name": "stdout",
     "output_type": "stream",
     "text": [
      "Std. Java Warm Latencies\n",
      "Mean = 0.120\n",
      "Median (50p) = 0.118\n",
      "95p = 0.140\n",
      "99p = 0.155\n",
      "\n",
      "GraalVM Warm Latencies\n",
      "Mean = 0.117\n",
      "Median (50p) = 0.117\n",
      "95p = 0.137\n",
      "99p = 0.154\n",
      "\n"
     ]
    }
   ],
   "source": [
    "def sequential_requests(fn_name, times=1000):\n",
    "    print(\"Normal Requests: \" + fn_name)\n",
    "    results = []\n",
    "    for i in range(times):\n",
    "        result = send_request(URLS[fn_name], False)\n",
    "        results.append(result)\n",
    "        print(\"Request %s: time = %.3f\" % (fn_name, result))\n",
    "    return results\n",
    "\n",
    "def test_sequential_requests(func_name, file_name):\n",
    "    if os.path.isfile(file_name):\n",
    "        return parseNumbers(file_name)\n",
    "    else:\n",
    "        result = sequential_requests(func_name)\n",
    "        write_data(result, file_name)\n",
    "        return result\n",
    "\n",
    "std_java_warm = test_sequential_requests(STD_JAVA_FN, 'std_java_warm_requests.txt')\n",
    "graalvm_warm = test_sequential_requests(GRAAL_FN, 'graalvm_warm_requests.txt')\n",
    "\n",
    "plotHistogram([std_java_warm], 'Warm Request Latencies (requests=1000)', ['Standard Java 11'], range=(0, 0.3))\n",
    "plt.show()\n",
    "plotHistogram([graalvm_warm], 'Warm Request Latencies (requests=1000)', ['GraalVM'], range=(0, 0.3))\n",
    "plt.show()\n",
    "\n",
    "printStats(std_java_warm, 'Std. Java Warm Latencies')\n",
    "printStats(graalvm_warm, 'GraalVM Warm Latencies')\n"
   ]
  },
  {
   "cell_type": "code",
   "execution_count": 6,
   "id": "07307475",
   "metadata": {},
   "outputs": [],
   "source": [
    "# Busy loop\n",
    "# for i in range(90000):\n",
    "#     TOKEN = run_command('gcloud auth print-identity-token')\n",
    "#     send_request(URLS[GRAAL_FN], False)\n",
    "#     send_request(URLS[STD_JAVA_FN], False)\n",
    "#     time.sleep(1)"
   ]
  },
  {
   "cell_type": "code",
   "execution_count": null,
   "id": "c7a82cf7",
   "metadata": {},
   "outputs": [],
   "source": []
  }
 ],
 "metadata": {
  "kernelspec": {
   "display_name": "Python 3",
   "language": "python",
   "name": "python3"
  },
  "language_info": {
   "codemirror_mode": {
    "name": "ipython",
    "version": 3
   },
   "file_extension": ".py",
   "mimetype": "text/x-python",
   "name": "python",
   "nbconvert_exporter": "python",
   "pygments_lexer": "ipython3",
   "version": "3.9.2"
  }
 },
 "nbformat": 4,
 "nbformat_minor": 5
}
