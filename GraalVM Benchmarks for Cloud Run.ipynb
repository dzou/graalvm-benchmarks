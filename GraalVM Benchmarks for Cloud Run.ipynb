{
 "cells": [
  {
   "cell_type": "markdown",
   "id": "c3e096db",
   "metadata": {},
   "source": [
    "# GraalVM vs. Standard Java for Cloud Functions\n",
    "\n",
    "After deploying the GraalVM and Standard Java functions to Cloud Run, get their URLs.\n",
    "\n",
    "They will look like this:\n",
    "\n",
    "* GraalVM function: https://my-func-graalvm-2yebdnw3bq-uc.a.run.app\n",
    "* Standard Java function: https://my-func-java11-2yebdnw3bq-uc.a.run.app"
   ]
  },
  {
   "cell_type": "code",
   "execution_count": 1,
   "id": "d9a61cd9",
   "metadata": {},
   "outputs": [],
   "source": [
    "GRAAL_FN = 'my-func-graalvm'\n",
    "STD_JAVA_FN = 'my-func-java11'\n",
    "\n",
    "URLS = {\n",
    "    GRAAL_FN: 'https://my-func-graalvm-2yebdnw3bq-uc.a.run.app',\n",
    "    STD_JAVA_FN: 'https://my-func-java11-2yebdnw3bq-uc.a.run.app'\n",
    "}"
   ]
  },
  {
   "cell_type": "code",
   "execution_count": 2,
   "id": "b84c70a6",
   "metadata": {
    "scrolled": true
   },
   "outputs": [],
   "source": [
    "import random\n",
    "import requests\n",
    "import shlex\n",
    "import subprocess\n",
    "import time\n",
    "\n",
    "def run_command(cmd_string):\n",
    "    output = subprocess.check_output(shlex.split(cmd_string)).strip()\n",
    "    return output.decode('utf-8')\n",
    "\n",
    "def redeploy(container_name):\n",
    "    env_code = random.randint(1, 100000)\n",
    "    command = 'gcloud run services update %s ' \\\n",
    "        '--update-env-vars FOO=%d --platform managed --region us-central1 --max-instances 1' % (container_name, env_code)\n",
    "    run_command(command)\n",
    "    return env_code\n",
    "\n",
    "def send_request(function_url, coldstart=False):\n",
    "    TOKEN = run_command('gcloud auth print-identity-token')\n",
    "    if coldstart and '?coldstart' not in function_url:\n",
    "        function_url += '?coldstart'\n",
    "    \n",
    "    # Notes on time.time() precision for linux: https://stackoverflow.com/a/1938096/906497\n",
    "    # On linux & mac, time precision < 1 microsecond.\n",
    "    start = time.time()\n",
    "    response = requests.get(function_url, headers = {'Authorization': 'Bearer %s' % TOKEN})\n",
    "    end = time.time()\n",
    "    \n",
    "    # print(function_url + \" | code: \" + str(response.status_code))\n",
    "    if response.status_code == 429:\n",
    "        time.sleep(30)\n",
    "    \n",
    "    if response.status_code == 200:\n",
    "        return end - start\n",
    "    else:\n",
    "        return send_request(function_url, coldstart)\n",
    "\n",
    "\n"
   ]
  },
  {
   "cell_type": "markdown",
   "id": "b02e27a2",
   "metadata": {},
   "source": [
    "## Cold Start Analysis\n",
    "\n",
    "In this experiment, we measure the cold start time of the containers.\n",
    "\n",
    "To trigger a cold start on each request, we pass the url parameter `?coldstart` in the URL.\n",
    "The Java function checks for the prescence of `?coldstart` and will exit the Java process if provided. It is stopped via `System.exit()` which triggers a new instance to be created on the subsequent request:\n",
    "\n",
    "```\n",
    "if (httpRequest.getFirstQueryParameter(\"coldstart\").isPresent()) {\n",
    "      ScheduledExecutorService executorService = Executors.newScheduledThreadPool(1);\n",
    "      try {\n",
    "        executorService.schedule(() -> System.exit(0), 1, TimeUnit.SECONDS);\n",
    "      } catch (Exception e) {\n",
    "        System.err.println(e);\n",
    "        System.exit(1);\n",
    "      }\n",
    "}\n",
    "```\n",
    "\n",
    "Also note, in the Cloud Run settings, `max_instances == 1` to ensure that only one instance is being used for the cold starts experiment."
   ]
  },
  {
   "cell_type": "code",
   "execution_count": 3,
   "id": "ec317d96",
   "metadata": {
    "scrolled": true
   },
   "outputs": [],
   "source": [
    "import csv\n",
    "import os.path\n",
    "import time\n",
    "\n",
    "def write_data(request_tuples, file_name):\n",
    "    output = list(map(lambda tuple: str(tuple[0]) + \",\" + str(tuple[1]), request_tuples))\n",
    "    with open(file_name, 'a') as file:\n",
    "        file.write(\"\\n\".join(output) + \"\\n\")\n",
    "\n",
    "def parse_numbers(filename):\n",
    "    result = []\n",
    "    with open(filename, 'r') as file:\n",
    "        data = csv.reader(file, delimiter=',')\n",
    "        for row in data:\n",
    "            result.append((int(row[0]), float(row[1])))\n",
    "        \n",
    "    return result\n",
    "\n",
    "# Sequential Cold Start Requests\n",
    "def sequential_cold_start_request(fn_name, file_name, times=1000):\n",
    "    print(\"Sequential cold start tests: \" + fn_name)\n",
    "    for i in range(times):\n",
    "        result = send_request(URLS[fn_name], True)\n",
    "        print(\"Request %s: time = %.3f\" % (fn_name, result))\n",
    "        datum = (int(round(time.time() * 1000)), result)\n",
    "        write_data(datum, file_name)\n",
    "        time.sleep(5)\n",
    "\n",
    "# for i in range(4):\n",
    "#     sequential_cold_start_request(STD_JAVA_FN, 'std_java_coldstart_bulk.txt', 500)\n",
    "#     sequential_cold_start_request(GRAAL_FN, 'graalvm_java_coldstart_bulk.txt', 500)\n",
    "    \n",
    "\n",
    "std_java_results = list(zip(*parse_numbers('std_java_coldstart_bulk.txt')))[1]\n",
    "graalvm_results = list(zip(*parse_numbers('graalvm_java_coldstart_bulk.txt')))[1]"
   ]
  },
  {
   "cell_type": "code",
   "execution_count": 4,
   "id": "053f80c7",
   "metadata": {
    "scrolled": false
   },
   "outputs": [
    {
     "data": {
      "image/png": "[encoded data removed]",
      "text/plain": [
       "<Figure size 432x288 with 1 Axes>"
      ]
     },
     "metadata": {
      "needs_background": "light"
     },
     "output_type": "display_data"
    },
    {
     "data": {
      "image/png": "[encoded data removed]",
      "text/plain": [
       "<Figure size 432x288 with 1 Axes>"
      ]
     },
     "metadata": {
      "needs_background": "light"
     },
     "output_type": "display_data"
    },
    {
     "name": "stdout",
     "output_type": "stream",
     "text": [
      "Standard Java Cold Start Latencies Percentiles\n",
      "Mean = 3.448\n",
      "Median (50p) = 3.426\n",
      "95p = 4.173\n",
      "99p = 4.852\n",
      "\n",
      "GraalVM Cold Start Latencies Percentiles\n",
      "Mean = 0.790\n",
      "Median (50p) = 0.399\n",
      "95p = 3.438\n",
      "99p = 3.759\n",
      "\n",
      "83.60 percent of cold starts were < 1 second.\n"
     ]
    }
   ],
   "source": [
    "import matplotlib.pyplot as plt\n",
    "import numpy as np\n",
    "\n",
    "def printStats(data, title):\n",
    "    print(title)\n",
    "    print('Mean = %.3f' % np.mean(data))\n",
    "    print('Median (50p) = %.3f' % np.percentile(data, 50))\n",
    "    print('95p = %.3f' % np.percentile(data, 95))\n",
    "    print('99p = %.3f' % np.percentile(data, 99))\n",
    "    print()\n",
    "\n",
    "def plotHistogram(data, title, labels, **kwargs):\n",
    "    plt.hist(data, bins=50, histtype='barstacked', label=labels, alpha=0.7, **kwargs)  # density=False would make counts\n",
    "    plt.ylabel('Count')\n",
    "    plt.xlabel('Latency (seconds)');\n",
    "    plt.title(title)\n",
    "    plt.legend()\n",
    "\n",
    "def percentileOf(threshold, d):\n",
    "    return sum(np.abs(d) < threshold) / float(len(d))\n",
    "    \n",
    "plotHistogram([std_java_results], 'Cold Start Latencies (n=1500)', ['Standard Java 11'], range=(0,6.5))\n",
    "plt.show()\n",
    "plotHistogram([graalvm_results], 'Cold Start Latencies (n=1500)', ['GraalVM'], range=(0,6.5), color='darkorange')\n",
    "plt.show()\n",
    "\n",
    "printStats(std_java_results, 'Standard Java Cold Start Latencies Percentiles')\n",
    "printStats(graalvm_results, 'GraalVM Cold Start Latencies Percentiles')\n",
    "\n",
    "graal_slow_percentile = percentileOf(2, graalvm_results) * 100\n",
    "print('%.2f percent of cold starts were < 1 second.' % graal_slow_percentile)"
   ]
  },
  {
   "cell_type": "markdown",
   "id": "82974be3",
   "metadata": {},
   "source": [
    "## Sequential Warm Requests Experiment\n",
    "\n",
    "Send requests sequentially to warmed Cloud Run instance."
   ]
  },
  {
   "cell_type": "code",
   "execution_count": 7,
   "id": "d88657ec",
   "metadata": {},
   "outputs": [
    {
     "name": "stdout",
     "output_type": "stream",
     "text": [
      "iters: 0\n"
     ]
    },
    {
     "ename": "KeyboardInterrupt",
     "evalue": "",
     "output_type": "error",
     "traceback": [
      "\u001b[0;31m---------------------------------------------------------------------------\u001b[0m",
      "\u001b[0;31mKeyboardInterrupt\u001b[0m                         Traceback (most recent call last)",
      "\u001b[0;32m<ipython-input-7-01a81743714f>\u001b[0m in \u001b[0;36m<module>\u001b[0;34m\u001b[0m\n\u001b[1;32m     12\u001b[0m \u001b[0;34m\u001b[0m\u001b[0m\n\u001b[1;32m     13\u001b[0m \u001b[0;32mfor\u001b[0m \u001b[0mi\u001b[0m \u001b[0;32min\u001b[0m \u001b[0mrange\u001b[0m\u001b[0;34m(\u001b[0m\u001b[0;36m1000000\u001b[0m\u001b[0;34m)\u001b[0m\u001b[0;34m:\u001b[0m\u001b[0;34m\u001b[0m\u001b[0;34m\u001b[0m\u001b[0m\n\u001b[0;32m---> 14\u001b[0;31m     \u001b[0msequential_request\u001b[0m\u001b[0;34m(\u001b[0m\u001b[0mSTD_JAVA_FN\u001b[0m\u001b[0;34m,\u001b[0m \u001b[0;34m'std_java_warm_requests_bulk.txt'\u001b[0m\u001b[0;34m,\u001b[0m \u001b[0mtimes\u001b[0m\u001b[0;34m=\u001b[0m\u001b[0;36m1\u001b[0m\u001b[0;34m)\u001b[0m\u001b[0;34m\u001b[0m\u001b[0;34m\u001b[0m\u001b[0m\n\u001b[0m\u001b[1;32m     15\u001b[0m     \u001b[0msequential_request\u001b[0m\u001b[0;34m(\u001b[0m\u001b[0mGRAAL_FN\u001b[0m\u001b[0;34m,\u001b[0m \u001b[0;34m'graalvm_warm_requests_bulk.txt'\u001b[0m\u001b[0;34m,\u001b[0m \u001b[0mtimes\u001b[0m\u001b[0;34m=\u001b[0m\u001b[0;36m1\u001b[0m\u001b[0;34m)\u001b[0m\u001b[0;34m\u001b[0m\u001b[0;34m\u001b[0m\u001b[0m\n\u001b[1;32m     16\u001b[0m     \u001b[0;32mif\u001b[0m \u001b[0mi\u001b[0m \u001b[0;34m%\u001b[0m \u001b[0;36m100\u001b[0m \u001b[0;34m==\u001b[0m \u001b[0;36m0\u001b[0m\u001b[0;34m:\u001b[0m\u001b[0;34m\u001b[0m\u001b[0;34m\u001b[0m\u001b[0m\n",
      "\u001b[0;32m<ipython-input-7-01a81743714f>\u001b[0m in \u001b[0;36msequential_request\u001b[0;34m(fn_name, file_name, times)\u001b[0m\n\u001b[1;32m      4\u001b[0m     \u001b[0mwrite_result\u001b[0m \u001b[0;34m=\u001b[0m \u001b[0;34m[\u001b[0m\u001b[0;34m]\u001b[0m\u001b[0;34m\u001b[0m\u001b[0;34m\u001b[0m\u001b[0m\n\u001b[1;32m      5\u001b[0m     \u001b[0;32mfor\u001b[0m \u001b[0mi\u001b[0m \u001b[0;32min\u001b[0m \u001b[0mrange\u001b[0m\u001b[0;34m(\u001b[0m\u001b[0mtimes\u001b[0m\u001b[0;34m)\u001b[0m\u001b[0;34m:\u001b[0m\u001b[0;34m\u001b[0m\u001b[0;34m\u001b[0m\u001b[0m\n\u001b[0;32m----> 6\u001b[0;31m         \u001b[0mresult\u001b[0m \u001b[0;34m=\u001b[0m \u001b[0msend_request\u001b[0m\u001b[0;34m(\u001b[0m\u001b[0mURLS\u001b[0m\u001b[0;34m[\u001b[0m\u001b[0mfn_name\u001b[0m\u001b[0;34m]\u001b[0m\u001b[0;34m,\u001b[0m \u001b[0;32mFalse\u001b[0m\u001b[0;34m)\u001b[0m\u001b[0;34m\u001b[0m\u001b[0;34m\u001b[0m\u001b[0m\n\u001b[0m\u001b[1;32m      7\u001b[0m         \u001b[0mdatum\u001b[0m \u001b[0;34m=\u001b[0m \u001b[0;34m(\u001b[0m\u001b[0mint\u001b[0m\u001b[0;34m(\u001b[0m\u001b[0mround\u001b[0m\u001b[0;34m(\u001b[0m\u001b[0mtime\u001b[0m\u001b[0;34m.\u001b[0m\u001b[0mtime\u001b[0m\u001b[0;34m(\u001b[0m\u001b[0;34m)\u001b[0m\u001b[0;34m)\u001b[0m\u001b[0;34m)\u001b[0m\u001b[0;34m,\u001b[0m \u001b[0mresult\u001b[0m\u001b[0;34m)\u001b[0m\u001b[0;34m\u001b[0m\u001b[0;34m\u001b[0m\u001b[0m\n\u001b[1;32m      8\u001b[0m         \u001b[0mwrite_result\u001b[0m\u001b[0;34m.\u001b[0m\u001b[0mappend\u001b[0m\u001b[0;34m(\u001b[0m\u001b[0mdatum\u001b[0m\u001b[0;34m)\u001b[0m\u001b[0;34m\u001b[0m\u001b[0;34m\u001b[0m\u001b[0m\n",
      "\u001b[0;32m<ipython-input-2-d106a68d3a56>\u001b[0m in \u001b[0;36msend_request\u001b[0;34m(function_url, coldstart)\u001b[0m\n\u001b[1;32m     17\u001b[0m \u001b[0;34m\u001b[0m\u001b[0m\n\u001b[1;32m     18\u001b[0m \u001b[0;32mdef\u001b[0m \u001b[0msend_request\u001b[0m\u001b[0;34m(\u001b[0m\u001b[0mfunction_url\u001b[0m\u001b[0;34m,\u001b[0m \u001b[0mcoldstart\u001b[0m\u001b[0;34m=\u001b[0m\u001b[0;32mFalse\u001b[0m\u001b[0;34m)\u001b[0m\u001b[0;34m:\u001b[0m\u001b[0;34m\u001b[0m\u001b[0;34m\u001b[0m\u001b[0m\n\u001b[0;32m---> 19\u001b[0;31m     \u001b[0mTOKEN\u001b[0m \u001b[0;34m=\u001b[0m \u001b[0mrun_command\u001b[0m\u001b[0;34m(\u001b[0m\u001b[0;34m'gcloud auth print-identity-token'\u001b[0m\u001b[0;34m)\u001b[0m\u001b[0;34m\u001b[0m\u001b[0;34m\u001b[0m\u001b[0m\n\u001b[0m\u001b[1;32m     20\u001b[0m     \u001b[0;32mif\u001b[0m \u001b[0mcoldstart\u001b[0m \u001b[0;32mand\u001b[0m \u001b[0;34m'?coldstart'\u001b[0m \u001b[0;32mnot\u001b[0m \u001b[0;32min\u001b[0m \u001b[0mfunction_url\u001b[0m\u001b[0;34m:\u001b[0m\u001b[0;34m\u001b[0m\u001b[0;34m\u001b[0m\u001b[0m\n\u001b[1;32m     21\u001b[0m         \u001b[0mfunction_url\u001b[0m \u001b[0;34m+=\u001b[0m \u001b[0;34m'?coldstart'\u001b[0m\u001b[0;34m\u001b[0m\u001b[0;34m\u001b[0m\u001b[0m\n",
      "\u001b[0;32m<ipython-input-2-d106a68d3a56>\u001b[0m in \u001b[0;36mrun_command\u001b[0;34m(cmd_string)\u001b[0m\n\u001b[1;32m      6\u001b[0m \u001b[0;34m\u001b[0m\u001b[0m\n\u001b[1;32m      7\u001b[0m \u001b[0;32mdef\u001b[0m \u001b[0mrun_command\u001b[0m\u001b[0;34m(\u001b[0m\u001b[0mcmd_string\u001b[0m\u001b[0;34m)\u001b[0m\u001b[0;34m:\u001b[0m\u001b[0;34m\u001b[0m\u001b[0;34m\u001b[0m\u001b[0m\n\u001b[0;32m----> 8\u001b[0;31m     \u001b[0moutput\u001b[0m \u001b[0;34m=\u001b[0m \u001b[0msubprocess\u001b[0m\u001b[0;34m.\u001b[0m\u001b[0mcheck_output\u001b[0m\u001b[0;34m(\u001b[0m\u001b[0mshlex\u001b[0m\u001b[0;34m.\u001b[0m\u001b[0msplit\u001b[0m\u001b[0;34m(\u001b[0m\u001b[0mcmd_string\u001b[0m\u001b[0;34m)\u001b[0m\u001b[0;34m)\u001b[0m\u001b[0;34m.\u001b[0m\u001b[0mstrip\u001b[0m\u001b[0;34m(\u001b[0m\u001b[0;34m)\u001b[0m\u001b[0;34m\u001b[0m\u001b[0;34m\u001b[0m\u001b[0m\n\u001b[0m\u001b[1;32m      9\u001b[0m     \u001b[0;32mreturn\u001b[0m \u001b[0moutput\u001b[0m\u001b[0;34m.\u001b[0m\u001b[0mdecode\u001b[0m\u001b[0;34m(\u001b[0m\u001b[0;34m'utf-8'\u001b[0m\u001b[0;34m)\u001b[0m\u001b[0;34m\u001b[0m\u001b[0;34m\u001b[0m\u001b[0m\n\u001b[1;32m     10\u001b[0m \u001b[0;34m\u001b[0m\u001b[0m\n",
      "\u001b[0;32m/usr/lib/python3.9/subprocess.py\u001b[0m in \u001b[0;36mcheck_output\u001b[0;34m(timeout, *popenargs, **kwargs)\u001b[0m\n\u001b[1;32m    422\u001b[0m         \u001b[0mkwargs\u001b[0m\u001b[0;34m[\u001b[0m\u001b[0;34m'input'\u001b[0m\u001b[0;34m]\u001b[0m \u001b[0;34m=\u001b[0m \u001b[0mempty\u001b[0m\u001b[0;34m\u001b[0m\u001b[0;34m\u001b[0m\u001b[0m\n\u001b[1;32m    423\u001b[0m \u001b[0;34m\u001b[0m\u001b[0m\n\u001b[0;32m--> 424\u001b[0;31m     return run(*popenargs, stdout=PIPE, timeout=timeout, check=True,\n\u001b[0m\u001b[1;32m    425\u001b[0m                **kwargs).stdout\n\u001b[1;32m    426\u001b[0m \u001b[0;34m\u001b[0m\u001b[0m\n",
      "\u001b[0;32m/usr/lib/python3.9/subprocess.py\u001b[0m in \u001b[0;36mrun\u001b[0;34m(input, capture_output, timeout, check, *popenargs, **kwargs)\u001b[0m\n\u001b[1;32m    505\u001b[0m     \u001b[0;32mwith\u001b[0m \u001b[0mPopen\u001b[0m\u001b[0;34m(\u001b[0m\u001b[0;34m*\u001b[0m\u001b[0mpopenargs\u001b[0m\u001b[0;34m,\u001b[0m \u001b[0;34m**\u001b[0m\u001b[0mkwargs\u001b[0m\u001b[0;34m)\u001b[0m \u001b[0;32mas\u001b[0m \u001b[0mprocess\u001b[0m\u001b[0;34m:\u001b[0m\u001b[0;34m\u001b[0m\u001b[0;34m\u001b[0m\u001b[0m\n\u001b[1;32m    506\u001b[0m         \u001b[0;32mtry\u001b[0m\u001b[0;34m:\u001b[0m\u001b[0;34m\u001b[0m\u001b[0;34m\u001b[0m\u001b[0m\n\u001b[0;32m--> 507\u001b[0;31m             \u001b[0mstdout\u001b[0m\u001b[0;34m,\u001b[0m \u001b[0mstderr\u001b[0m \u001b[0;34m=\u001b[0m \u001b[0mprocess\u001b[0m\u001b[0;34m.\u001b[0m\u001b[0mcommunicate\u001b[0m\u001b[0;34m(\u001b[0m\u001b[0minput\u001b[0m\u001b[0;34m,\u001b[0m \u001b[0mtimeout\u001b[0m\u001b[0;34m=\u001b[0m\u001b[0mtimeout\u001b[0m\u001b[0;34m)\u001b[0m\u001b[0;34m\u001b[0m\u001b[0;34m\u001b[0m\u001b[0m\n\u001b[0m\u001b[1;32m    508\u001b[0m         \u001b[0;32mexcept\u001b[0m \u001b[0mTimeoutExpired\u001b[0m \u001b[0;32mas\u001b[0m \u001b[0mexc\u001b[0m\u001b[0;34m:\u001b[0m\u001b[0;34m\u001b[0m\u001b[0;34m\u001b[0m\u001b[0m\n\u001b[1;32m    509\u001b[0m             \u001b[0mprocess\u001b[0m\u001b[0;34m.\u001b[0m\u001b[0mkill\u001b[0m\u001b[0;34m(\u001b[0m\u001b[0;34m)\u001b[0m\u001b[0;34m\u001b[0m\u001b[0;34m\u001b[0m\u001b[0m\n",
      "\u001b[0;32m/usr/lib/python3.9/subprocess.py\u001b[0m in \u001b[0;36mcommunicate\u001b[0;34m(self, input, timeout)\u001b[0m\n\u001b[1;32m   1119\u001b[0m                 \u001b[0mself\u001b[0m\u001b[0;34m.\u001b[0m\u001b[0m_stdin_write\u001b[0m\u001b[0;34m(\u001b[0m\u001b[0minput\u001b[0m\u001b[0;34m)\u001b[0m\u001b[0;34m\u001b[0m\u001b[0;34m\u001b[0m\u001b[0m\n\u001b[1;32m   1120\u001b[0m             \u001b[0;32melif\u001b[0m \u001b[0mself\u001b[0m\u001b[0;34m.\u001b[0m\u001b[0mstdout\u001b[0m\u001b[0;34m:\u001b[0m\u001b[0;34m\u001b[0m\u001b[0;34m\u001b[0m\u001b[0m\n\u001b[0;32m-> 1121\u001b[0;31m                 \u001b[0mstdout\u001b[0m \u001b[0;34m=\u001b[0m \u001b[0mself\u001b[0m\u001b[0;34m.\u001b[0m\u001b[0mstdout\u001b[0m\u001b[0;34m.\u001b[0m\u001b[0mread\u001b[0m\u001b[0;34m(\u001b[0m\u001b[0;34m)\u001b[0m\u001b[0;34m\u001b[0m\u001b[0;34m\u001b[0m\u001b[0m\n\u001b[0m\u001b[1;32m   1122\u001b[0m                 \u001b[0mself\u001b[0m\u001b[0;34m.\u001b[0m\u001b[0mstdout\u001b[0m\u001b[0;34m.\u001b[0m\u001b[0mclose\u001b[0m\u001b[0;34m(\u001b[0m\u001b[0;34m)\u001b[0m\u001b[0;34m\u001b[0m\u001b[0;34m\u001b[0m\u001b[0m\n\u001b[1;32m   1123\u001b[0m             \u001b[0;32melif\u001b[0m \u001b[0mself\u001b[0m\u001b[0;34m.\u001b[0m\u001b[0mstderr\u001b[0m\u001b[0;34m:\u001b[0m\u001b[0;34m\u001b[0m\u001b[0;34m\u001b[0m\u001b[0m\n",
      "\u001b[0;31mKeyboardInterrupt\u001b[0m: "
     ]
    }
   ],
   "source": [
    "from datetime import datetime\n",
    "\n",
    "def sequential_request(fn_name, file_name, times=10):\n",
    "    write_result = []\n",
    "    for i in range(times):\n",
    "        result = send_request(URLS[fn_name], False)\n",
    "        datum = (int(round(time.time())), result)\n",
    "        write_result.append(datum)\n",
    "        # print(\"Request %s: time = %.3f\" % (fn_name, result))    \n",
    "    write_data(write_result, file_name)\n",
    "\n",
    "\n",
    "for i in range(200000):\n",
    "    sequential_request(STD_JAVA_FN, 'std_java_warm_requests_bulk.txt', times=1)\n",
    "    sequential_request(GRAAL_FN, 'graalvm_warm_requests_bulk.txt', times=1)\n",
    "    if i % 100 == 0: \n",
    "        print(\"iters: \" + str(i))\n",
    "\n",
    "std_java_ts = list(zip(*parse_numbers('std_java_warm_requests_bulk.txt')))[0]\n",
    "std_java_ts = list(map(lambda x: datetime.fromtimestamp(x), std_java_ts))\n",
    "std_java_warm = list(zip(*parse_numbers('std_java_warm_requests_bulk.txt')))[1]\n",
    "\n",
    "graalvm_ts = list(zip(*parse_numbers('graalvm_warm_requests_bulk.txt')))[0]\n",
    "graalvm_ts = list(map(lambda x: datetime.fromtimestamp(x), graalvm_ts))\n",
    "graalvm_warm = list(zip(*parse_numbers('graalvm_warm_requests_bulk.txt')))[1]\n",
    "\n",
    "plotHistogram([std_java_warm], 'Warm Request Latencies (requests=1 million)', ['Standard Java 11'], range=(0, 0.3))\n",
    "plt.show()\n",
    "plotHistogram([graalvm_warm], 'Warm Request Latencies (requests=1 million)', ['GraalVM'], range=(0, 0.3), color='darkorange')\n",
    "plt.show()\n",
    "\n",
    "printStats(std_java_warm, 'Std. Java Warm Latencies')\n",
    "printStats(graalvm_warm, 'GraalVM Warm Latencies')\n",
    "\n",
    "def plot_scatter(x, y, **kwargs):\n",
    "    fig, ax = plt.subplots()\n",
    "    fig.autofmt_xdate()\n",
    "    plt.title('Warm Latencies Over Time')\n",
    "    plt.scatter(x, y, **kwargs)\n",
    "    plt.legend()\n",
    "\n",
    "plot_scatter(std_java_ts, std_java_warm, label='Standard Java 11')\n",
    "plot_scatter(graalvm_ts, graalvm_warm, color='darkorange', label='GraalVM')\n"
   ]
  },
  {
   "cell_type": "code",
   "execution_count": 6,
   "id": "07307475",
   "metadata": {},
   "outputs": [],
   "source": [
    "# Busy loop\n",
    "# for i in range(90000):\n",
    "#     TOKEN = run_command('gcloud auth print-identity-token')\n",
    "#     send_request(URLS[GRAAL_FN], False)\n",
    "#     send_request(URLS[STD_JAVA_FN], False)\n",
    "#     time.sleep(1)"
   ]
  },
  {
   "cell_type": "code",
   "execution_count": null,
   "id": "c7a82cf7",
   "metadata": {},
   "outputs": [],
   "source": []
  }
 ],
 "metadata": {
  "kernelspec": {
   "display_name": "Python 3",
   "language": "python",
   "name": "python3"
  },
  "language_info": {
   "codemirror_mode": {
    "name": "ipython",
    "version": 3
   },
   "file_extension": ".py",
   "mimetype": "text/x-python",
   "name": "python",
   "nbconvert_exporter": "python",
   "pygments_lexer": "ipython3",
   "version": "3.9.2"
  }
 },
 "nbformat": 4,
 "nbformat_minor": 5
}
